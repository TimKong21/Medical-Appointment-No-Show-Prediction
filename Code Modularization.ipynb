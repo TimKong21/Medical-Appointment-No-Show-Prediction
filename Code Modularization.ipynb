{
 "cells": [
  {
   "cell_type": "markdown",
   "id": "f5c65551-d78e-44c2-b75e-d975a0a943a0",
   "metadata": {},
   "source": [
    "# Code Modularization"
   ]
  },
  {
   "cell_type": "markdown",
   "id": "66638307-da28-46e4-905f-4f468ede59a0",
   "metadata": {},
   "source": [
    "## Packages"
   ]
  },
  {
   "cell_type": "code",
   "execution_count": 1,
   "id": "0682b4e0-1a5d-4acb-b4f4-72b6e890d161",
   "metadata": {
    "tags": []
   },
   "outputs": [],
   "source": [
    "%%capture\n",
    "\n",
    "!pip install snowflake-connector-python\n",
    "!pip install snowflake-sqlalchemy\n",
    "!pip install category_encoders\n",
    "!pip install hyperopt\n",
    "!pip install imblearn\n",
    "!pip install xgboost==1.7.4\n",
    "!pip install pandas --upgrade"
   ]
  },
  {
   "cell_type": "code",
   "execution_count": 2,
   "id": "2c3fe45e-4afe-4930-9d45-3eb7ac74d25e",
   "metadata": {
    "tags": []
   },
   "outputs": [],
   "source": [
    "# Import necessary libraries\n",
    "import sys\n",
    "import os"
   ]
  },
  {
   "cell_type": "markdown",
   "id": "e4842a86-65fd-40ee-9bff-a7cad6a1b286",
   "metadata": {},
   "source": [
    "## Original Directory"
   ]
  },
  {
   "cell_type": "code",
   "execution_count": 3,
   "id": "fbc215dc-21a6-43f1-922a-bf8a7bdf5c83",
   "metadata": {
    "tags": []
   },
   "outputs": [
    {
     "name": "stdout",
     "output_type": "stream",
     "text": [
      "Original working directory: /home/ec2-user/SageMaker\n"
     ]
    }
   ],
   "source": [
    "# Get the current original directory\n",
    "original_directory = os.getcwd()\n",
    "\n",
    "# Print curent directory\n",
    "print(\"Original working directory: {0}\".format(os.getcwd()))"
   ]
  },
  {
   "cell_type": "markdown",
   "id": "0a5eea06-2e14-48e2-8218-684a684d7331",
   "metadata": {},
   "source": [
    "## Write Modules"
   ]
  },
  {
   "cell_type": "markdown",
   "id": "955ecf31-1da7-486a-ba38-27388902316f",
   "metadata": {},
   "source": [
    "### Data Loading"
   ]
  },
  {
   "cell_type": "code",
   "execution_count": 4,
   "id": "038a5da9-ece3-44ba-a743-9d8f3b09755a",
   "metadata": {
    "tags": []
   },
   "outputs": [
    {
     "name": "stdout",
     "output_type": "stream",
     "text": [
      "Overwriting ./src/data_loader.py\n"
     ]
    }
   ],
   "source": [
    "%%writefile ./src/data_loader.py\n",
    "\n",
    "import pandas as pd\n",
    "import sqlalchemy\n",
    "import snowflake.connector\n",
    "from sqlalchemy import create_engine\n",
    "from snowflake.sqlalchemy import *\n",
    "import snowflake_creds as snowflake_creds\n",
    "from sklearn.model_selection import train_test_split\n",
    "\n",
    "def load_data_and_create_simulated_set(stratify_colname='NO_SHOW', test_size=0.2, random_state=42):\n",
    "    \"\"\"\n",
    "    Connects to Snowflake, retrieves data, and creates a stratified simulated set.\n",
    "    \n",
    "    :param snowflake_creds: A credentials object with USER_NAME and PASSWORD attributes.\n",
    "    :param stratify_colname: The name of the column to stratify by.\n",
    "    :param test_size: The proportion of the dataset to include in the simulated set.\n",
    "    :param random_state: The seed used by the random number generator.\n",
    "    :return: A tuple containing the full dataset and the simulated set.\n",
    "    \"\"\"\n",
    "    \n",
    "    # Define the Snowflake connection parameters\n",
    "    engine = create_engine(URL(\n",
    "            account=\"lvb79593.us-east-1\",\n",
    "            user=snowflake_creds.USER_NAME,\n",
    "            password=snowflake_creds.PASSWORD,\n",
    "            role=\"ACCOUNTADMIN\",\n",
    "            warehouse=\"MY_WAREHOUSE\",\n",
    "            database=\"MEDICAL_APPOINTMENT_NO_SHOW\",\n",
    "            schema=\"APPOINTMENT_SCHEMA\"\n",
    "        ))\n",
    "\n",
    "    # Define the SQL query that retrieves the appointment data\n",
    "    query = \"\"\"\n",
    "    SELECT * FROM MEDICAL_APPOINTMENT_NO_SHOW.APPOINTMENT_SCHEMA.APPOINTMENT_DATA;\n",
    "    \"\"\"\n",
    "\n",
    "    # Use a context manager to ensure the connection is closed after executing the query\n",
    "    try:\n",
    "        with engine.connect() as conn:\n",
    "            # Execute the query and load the result into a Pandas DataFrame\n",
    "            data = pd.read_sql(query, conn)\n",
    "            # Convert column names to uppercase\n",
    "            data.columns = [col.upper() for col in data.columns.tolist()]\n",
    "            # Print connection successful message\n",
    "            print(\"Connection successful. Data loaded into DataFrame.\")\n",
    "            \n",
    "    except Exception as e:  # Catch any exceptions that occur\n",
    "        print(f\"An error occurred: {e}\")\n",
    "        return None, None\n",
    "\n",
    "    # Save the data frame to our local disk\n",
    "    data.to_pickle(\"../data/input/full_data.pkl\")\n",
    "\n",
    "    # Create a stratified simulated set\n",
    "    _, simulated_set = train_test_split(\n",
    "        data,\n",
    "        test_size=test_size,\n",
    "        random_state=random_state,\n",
    "        stratify=data[stratify_colname] if stratify_colname in data.columns else None\n",
    "    )\n",
    "    \n",
    "    # Set the target column in the simulated set to empty values\n",
    "    if stratify_colname in simulated_set.columns:\n",
    "        simulated_set[stratify_colname] = ''\n",
    "\n",
    "    # Save the simulated set to a CSV file\n",
    "    simulated_set.to_csv('../data/input/simulated_set.csv', index=False)\n",
    "    \n",
    "    return data, simulated_set\n",
    "\n",
    "def load_local_data(full_data_path=\"../data/input/full_data.pkl\", simulated_data_path=\"../data/input/simulated_set.csv\"):\n",
    "    \"\"\"\n",
    "    Loads the full dataset and simulated set from local disk.\n",
    "    \n",
    "    :param full_data_path: The path to the full data pickle file.\n",
    "    :param simulated_data_path: The path to the simulated set CSV file.\n",
    "    :return: A tuple containing the full dataset and the simulated set.\n",
    "    \"\"\"\n",
    "    try:\n",
    "        # Load the full dataset from a pickle file\n",
    "        full_data = pd.read_pickle(full_data_path)\n",
    "        \n",
    "        # Load the simulated set from a CSV file\n",
    "        simulated_set = pd.read_csv(simulated_data_path, parse_dates=['SCHEDULEDDAY', 'APPOINTMENTDAY'])\n",
    "        \n",
    "        return full_data, simulated_set\n",
    "    except Exception as e:\n",
    "        print(f\"An error occurred while loading the data: {e}\")\n",
    "        return None, None"
   ]
  },
  {
   "cell_type": "markdown",
   "id": "f0b4bdfc-1f51-48c5-893a-2951d69d4467",
   "metadata": {},
   "source": [
    "### Preprocessing"
   ]
  },
  {
   "cell_type": "code",
   "execution_count": 5,
   "id": "bf4538a1-e2c3-4bf8-b351-6ece757d9c97",
   "metadata": {},
   "outputs": [
    {
     "name": "stdout",
     "output_type": "stream",
     "text": [
      "Overwriting ./src/preprocessing.py\n"
     ]
    }
   ],
   "source": [
    "%%writefile ./src/preprocessing.py\n",
    "\n",
    "import pandas as pd\n",
    "from sklearn.model_selection import train_test_split\n",
    "from category_encoders import TargetEncoder\n",
    "from sklearn.preprocessing import StandardScaler\n",
    "\n",
    "def preprocess_data(data, is_simulated=False):\n",
    "    \"\"\"\n",
    "    Preprocesses the medical appointment data.\n",
    "    \n",
    "    :param data: The DataFrame containing the medical appointment data.\n",
    "    :param is_simulated: A boolean flag indicating whether the data is a simulated set with NaN target values.\n",
    "    :return: The preprocessed DataFrame.\n",
    "    \"\"\"\n",
    "    # Drop 'PATIENTID' column\n",
    "    data = data.drop('PATIENTID', axis=1)\n",
    "    \n",
    "    # Set 'APPOINTMENTID' as index\n",
    "    data = data.set_index('APPOINTMENTID')\n",
    "    \n",
    "    # Map 'NO_SHOW' to 0 and 1 only if it's not a simulated set\n",
    "    if not is_simulated:\n",
    "        data['NO_SHOW'] = data['NO_SHOW'].map({'No': 0, 'Yes': 1})\n",
    "    \n",
    "    # Ensure the difference between 'APPOINTMENTDAY' and 'SCHEDULEDDAY' is non-negative\n",
    "    data = data[(data['APPOINTMENTDAY'] - data['SCHEDULEDDAY']).dt.days + 1 >= 0]\n",
    "    \n",
    "    # Ensure 'AGE' is non-negative\n",
    "    data = data[data['AGE'] >= 0]\n",
    "    \n",
    "    return data\n",
    "\n",
    "def split_data(data, target_col='NO_SHOW', test_size=0.2, random_state=42):\n",
    "    \"\"\"\n",
    "    Splits the data into training and test sets without separating X and y.\n",
    "    \n",
    "    :param data: The DataFrame to split.\n",
    "    :param target_col: The name of the target column.\n",
    "    :param test_size: The proportion of the dataset to include in the test split.\n",
    "    :param random_state: The seed used by the random number generator.\n",
    "    :return: A tuple containing the training set and test set.\n",
    "    \"\"\"\n",
    "    return train_test_split(\n",
    "        data, test_size=test_size, random_state=random_state, stratify=data[target_col]\n",
    "    )\n",
    "\n",
    "def encode_gender(data):\n",
    "    \"\"\"\n",
    "    Encodes the 'GENDER' column in the dataset, mapping 'M' to 1 and 'F' to 0.\n",
    "\n",
    "    :param data: Pandas DataFrame to be processed.\n",
    "    :return: DataFrame with the encoded 'GENDER' column.\n",
    "    \"\"\"\n",
    "    gender_mapping = {'M': 1, 'F': 0}\n",
    "    data['GENDER'] = data['GENDER'].map(gender_mapping)\n",
    "    return data\n",
    "\n",
    "def one_hot_encode_gender_age(data):\n",
    "    \"\"\"\n",
    "    One-hot encodes the 'GENDER_AGE' column in the dataset.\n",
    "\n",
    "    :param data: Pandas DataFrame to be processed.\n",
    "    :return: DataFrame with one-hot encoded 'GENDER_AGE' column.\n",
    "    \"\"\"\n",
    "    data = pd.get_dummies(data, columns=['GENDER_AGE'], drop_first=True, dtype=int)\n",
    "\n",
    "    # Reorder columns to make 'NO_SHOW' the last column, if it exists\n",
    "    if 'NO_SHOW' in data.columns:\n",
    "        cols = list(data.columns)\n",
    "        cols.remove('NO_SHOW')\n",
    "        cols.append('NO_SHOW')\n",
    "        data = data[cols]\n",
    "\n",
    "    return data\n",
    "\n",
    "def target_encode_neighbourhood(train_data, test_data):\n",
    "    \"\"\"\n",
    "    Target encodes the 'NEIGHBOURHOOD' column in the training and testing datasets.\n",
    "\n",
    "    :param train_data: Training dataset as a Pandas DataFrame.\n",
    "    :param test_data: Testing dataset as a Pandas DataFrame.\n",
    "    :return: Tuple of DataFrames with target encoded 'NEIGHBOURHOOD' column.\n",
    "    \"\"\"\n",
    "    encoder = TargetEncoder()\n",
    "\n",
    "    # Fit and transform on the training data\n",
    "    train_data['NEIGHBOURHOOD'] = encoder.fit_transform(train_data['NEIGHBOURHOOD'], train_data['NO_SHOW'])\n",
    "\n",
    "    # Transform on the testing data\n",
    "    test_data['NEIGHBOURHOOD'] = encoder.transform(test_data['NEIGHBOURHOOD'])\n",
    "\n",
    "    return train_data, test_data\n",
    "\n",
    "def apply_scaling(train_set, test_set):\n",
    "    \"\"\"\n",
    "    Applies scaling to the feature columns of the train and test sets.\n",
    "    \n",
    "    :param train_set: The training set DataFrame.\n",
    "    :param test_set: The test set DataFrame.\n",
    "    :return: Scaled versions of the train and test sets.\n",
    "    \"\"\"\n",
    "    # Initialize the scaler\n",
    "    scaler = StandardScaler()\n",
    "\n",
    "    # List of feature columns to scale, excluding the target column 'NO_SHOW'\n",
    "    feature_cols = train_set.columns.difference(['NO_SHOW'])\n",
    "\n",
    "    # Create copies of the original data\n",
    "    train_set_scaled = train_set.copy()\n",
    "    test_set_scaled = test_set.copy()\n",
    "\n",
    "    # Apply scaling to the feature columns in the training and test sets\n",
    "    train_set_scaled[feature_cols] = scaler.fit_transform(train_set[feature_cols])\n",
    "    test_set_scaled[feature_cols] = scaler.transform(test_set[feature_cols])\n",
    "\n",
    "    return train_set_scaled, test_set_scaled"
   ]
  },
  {
   "cell_type": "markdown",
   "id": "3a03da07-2a18-46e7-80a8-2f5f296b8740",
   "metadata": {},
   "source": [
    "### Feature Engineering"
   ]
  },
  {
   "cell_type": "code",
   "execution_count": 6,
   "id": "aac9432a-9d88-4047-924d-55583dbc2720",
   "metadata": {},
   "outputs": [
    {
     "name": "stdout",
     "output_type": "stream",
     "text": [
      "Overwriting ./src/feature_engineering.py\n"
     ]
    }
   ],
   "source": [
    "%%writefile ./src/feature_engineering.py\n",
    "\n",
    "import pandas as pd\n",
    "import numpy as np\n",
    "\n",
    "def create_age_gender_feature(data):\n",
    "    \"\"\"\n",
    "    Creates a combined feature of gender and bucketized age in the given dataset.\n",
    "    \n",
    "    :param data: The DataFrame to process.\n",
    "    :return: The DataFrame with the new combined feature.\n",
    "    \"\"\"\n",
    "    bins = [0, 13, 18, 31, 51, np.inf]\n",
    "    labels = ['0-12', '13-17', '18-30', '31-50', '50+']\n",
    "\n",
    "    # Create AGE_BUCKET and then create GENDER_AGE\n",
    "    data['AGE_BUCKET'] = pd.cut(data['AGE'], bins=bins, labels=labels, right=False)\n",
    "    data['GENDER_AGE'] = data['GENDER'] + '_' + data['AGE_BUCKET'].astype(str)\n",
    "\n",
    "    # Drop the AGE_BUCKET column\n",
    "    data.drop('AGE_BUCKET', axis=1, inplace=True)\n",
    "    \n",
    "    # Reorder columns to make 'NO_SHOW' the last column, if it exists\n",
    "    if 'NO_SHOW' in data.columns:\n",
    "        cols = list(data.columns)\n",
    "        cols.remove('NO_SHOW')\n",
    "        cols.append('NO_SHOW')\n",
    "        data = data[cols]\n",
    "\n",
    "    return data\n",
    "\n",
    "def calculate_days_till_appointment(data):\n",
    "    \"\"\"\n",
    "    Adds a feature representing the number of days till the appointment.\n",
    "\n",
    "    :param data: Pandas DataFrame to be processed.\n",
    "    :return: DataFrame with the new feature added.\n",
    "    \"\"\"\n",
    "    # Calculate the number of days till the appointment\n",
    "    data['DAYS_TILL_APPOINTMENT'] = (data['APPOINTMENTDAY'] - data['SCHEDULEDDAY']).dt.days + 1\n",
    "\n",
    "    # If 'NO_SHOW' is a column, reorder columns to make it the last column\n",
    "    if 'NO_SHOW' in data.columns:\n",
    "        cols = list(data.columns)\n",
    "        cols.remove('NO_SHOW')\n",
    "        cols.append('NO_SHOW')\n",
    "        data = data[cols]\n",
    "\n",
    "    return data\n",
    "\n",
    "def extract_datetime_features(data):\n",
    "    \"\"\"\n",
    "    Extracts year, month, and day from 'SCHEDULEDDAY' and 'APPOINTMENTDAY' and adds them as new features.\n",
    "\n",
    "    :param data: Pandas DataFrame to be processed.\n",
    "    :return: DataFrame with new datetime features.\n",
    "    \"\"\"\n",
    "    # Extracting year, month, and day from SCHEDULEDDAY\n",
    "    data['SCHEDULEDDAY_YEAR'] = data['SCHEDULEDDAY'].dt.year\n",
    "    data['SCHEDULEDDAY_MONTH'] = data['SCHEDULEDDAY'].dt.month\n",
    "    data['SCHEDULEDDAY_DAY'] = data['SCHEDULEDDAY'].dt.day\n",
    "\n",
    "    # Extracting year, month, and day from APPOINTMENTDAY\n",
    "    data['APPOINTMENTDAY_YEAR'] = data['APPOINTMENTDAY'].dt.year\n",
    "    data['APPOINTMENTDAY_MONTH'] = data['APPOINTMENTDAY'].dt.month\n",
    "    data['APPOINTMENTDAY_DAY'] = data['APPOINTMENTDAY'].dt.day\n",
    "\n",
    "    # Dropping the original datetime columns\n",
    "    data.drop(['SCHEDULEDDAY', 'APPOINTMENTDAY'], axis=1, inplace=True)\n",
    "    \n",
    "    # Columns to check for unique values\n",
    "    year_columns_to_check = ['SCHEDULEDDAY_YEAR', 'APPOINTMENTDAY_YEAR']\n",
    "\n",
    "    # Check and drop year columns with only one unique value\n",
    "    for col in year_columns_to_check:\n",
    "        if data[col].nunique() == 1:\n",
    "            #print(f\"Dropping {col} as it has only one unique value.\")\n",
    "            data.drop([col], axis=1, inplace=True)\n",
    "\n",
    "    # If 'NO_SHOW' is a column, reorder columns to make it the last column\n",
    "    if 'NO_SHOW' in data.columns:\n",
    "        cols = list(data.columns)\n",
    "        cols.remove('NO_SHOW')\n",
    "        cols.append('NO_SHOW')\n",
    "        data = data[cols]\n",
    "\n",
    "    return data"
   ]
  },
  {
   "cell_type": "markdown",
   "id": "832b333f-92fd-4027-90c7-786db9d1b7b0",
   "metadata": {},
   "source": [
    "### Modeling"
   ]
  },
  {
   "cell_type": "code",
   "execution_count": 7,
   "id": "54807d21-0812-4b19-9693-6d934773d3ba",
   "metadata": {},
   "outputs": [
    {
     "name": "stdout",
     "output_type": "stream",
     "text": [
      "Overwriting ./src/modeling.py\n"
     ]
    }
   ],
   "source": [
    "%%writefile ./src/modeling.py\n",
    "\n",
    "import pandas as pd\n",
    "import pickle\n",
    "from sklearn.linear_model import LogisticRegression\n",
    "from sklearn.tree import DecisionTreeClassifier\n",
    "from hyperopt import hp, tpe, fmin, Trials, STATUS_OK\n",
    "from sklearn.model_selection import cross_val_score, StratifiedKFold\n",
    "from xgboost import XGBClassifier\n",
    "from sklearn.metrics import roc_auc_score, f1_score\n",
    "import matplotlib.pyplot as plt\n",
    "from sklearn.metrics import confusion_matrix, ConfusionMatrixDisplay, classification_report\n",
    "from sklearn.metrics import roc_curve, auc, precision_recall_curve\n",
    "\n",
    "def select_and_save_important_features(train_data, target_column='NO_SHOW', output_path='../data/features/combined_important_features.pkl'):\n",
    "    \"\"\"\n",
    "    Selects important features based on Logistic Regression and Decision Tree models and saves them to a file.\n",
    "    \n",
    "    :param train_data: The training dataset.\n",
    "    :param target_column: The name of the target column.\n",
    "    :param output_path: The path to save the important features.\n",
    "    \"\"\"\n",
    "    # Prepare the data\n",
    "    X = train_data.drop(target_column, axis=1)\n",
    "    y = train_data[target_column]\n",
    "\n",
    "    # Initialize and fit the Logistic Regression model\n",
    "    logistic_model = LogisticRegression(class_weight='balanced', random_state=42)\n",
    "    logistic_model.fit(X, y)\n",
    "\n",
    "    # Get coefficients and filter important features\n",
    "    logistic_coef = pd.DataFrame(logistic_model.coef_.reshape(-1, 1), index=X.columns, columns=['Coefficient'])\n",
    "    important_features_logistic = logistic_coef[abs(logistic_coef['Coefficient']) >= 0.01].index.values.tolist()\n",
    "\n",
    "    # Initialize and fit the Decision Tree model\n",
    "    decision_tree_model = DecisionTreeClassifier(class_weight='balanced', random_state=42)\n",
    "    decision_tree_model.fit(X, y)\n",
    "\n",
    "    # Get feature importances and filter important features\n",
    "    feature_importances = pd.DataFrame({'Feature': X.columns, 'Importance': decision_tree_model.feature_importances_})\n",
    "    feature_importances = feature_importances.sort_values('Importance', ascending=False)\n",
    "    important_features_tree = feature_importances[feature_importances['Importance'] >= 0.01]['Feature'].values.tolist()\n",
    "\n",
    "    # Combine the important features from both models\n",
    "    combined_important_features_union = list(set(important_features_logistic) | set(important_features_tree))\n",
    "\n",
    "    # Save the combined important features to a file\n",
    "    with open(output_path, 'wb') as f:\n",
    "        pickle.dump(combined_important_features_union, f)\n",
    "\n",
    "    print(f\"Important features saved to {output_path}\")\n",
    "\n",
    "def filter_data_with_important_features(data, important_features_path='../data/features/X_train_important_features.pkl', target_column='NO_SHOW'):\n",
    "    \"\"\"\n",
    "    Filters the given dataset with important features, adds missing features with default values, \n",
    "    and separates the target variable.\n",
    "    \n",
    "    :param data: The dataset to be filtered.\n",
    "    :param important_features_path: The path to the pickle file containing important features.\n",
    "    :param target_column: The name of the target column.\n",
    "    :return: A tuple containing the filtered features (X) and the target variable (Y).\n",
    "    \"\"\"\n",
    "    # Load the important features from the pickle file\n",
    "    with open(important_features_path, 'rb') as f:\n",
    "        important_features = pickle.load(f)\n",
    "\n",
    "    # Initialize a DataFrame with zeros for all important features\n",
    "    X_filtered = pd.DataFrame(0, index=data.index, columns=important_features)\n",
    "\n",
    "    # Update the DataFrame with the data from the original dataset\n",
    "    # Ensure to exclude the target column\n",
    "    X_filtered.update(data[important_features])\n",
    "\n",
    "    # Extract the target variable if it exists in the dataset\n",
    "    Y = data[target_column] if target_column in data.columns else None\n",
    "\n",
    "    return X_filtered, Y\n",
    "\n",
    "def tune_hyperparameters(X_train, y_train, max_evals=100):\n",
    "    \"\"\"\n",
    "    Tune hyperparameters for the XGBoost model using Hyperopt.\n",
    "\n",
    "    :param X_train: Training features.\n",
    "    :param y_train: Training labels.\n",
    "    :param max_evals: The maximum number of evaluations during optimization.\n",
    "    :return: A dictionary containing the best hyperparameters.\n",
    "    \"\"\"\n",
    "    best_score = 0  # Initialize the best score\n",
    "    iteration = 0  # Initialize the iteration counter\n",
    "\n",
    "    # Define the objective function\n",
    "    def objective(params):\n",
    "        nonlocal best_score  # Use nonlocal to refer to the outer scope's best_score\n",
    "        nonlocal iteration  # Use nonlocal to refer to the outer scope's iteration\n",
    "        iteration += 1  # Increment the iteration counter\n",
    "        \n",
    "        clf = XGBClassifier(\n",
    "            n_estimators=int(params['n_estimators']),\n",
    "            max_depth=int(params['max_depth']),\n",
    "            learning_rate=params['learning_rate'],\n",
    "            gamma=params['gamma'],\n",
    "            colsample_bytree=params['colsample_bytree'],\n",
    "            subsample=params['subsample'],\n",
    "            min_child_weight=int(params['min_child_weight']),\n",
    "            scale_pos_weight=(0.798 / 0.202),\n",
    "            random_state=42\n",
    "        )\n",
    "        \n",
    "        # Stratified K-Fold cross-validation\n",
    "        skf = StratifiedKFold(n_splits=5, shuffle=True, random_state=42)\n",
    "        score = cross_val_score(clf, X_train, y_train, cv=skf, scoring='roc_auc', n_jobs=-1).mean()\n",
    "        \n",
    "        if score > best_score:\n",
    "            best_score = score\n",
    "            print(f\"New best score at iteration {iteration}: {best_score}\")\n",
    "            display(\"Best parameters so far:\", params)\n",
    "        \n",
    "        return {'loss': -score, 'status': STATUS_OK}\n",
    "\n",
    "    # Define the parameter space\n",
    "    space = {\n",
    "        'n_estimators': hp.quniform('n_estimators', 50, 1000, 1),\n",
    "        'max_depth': hp.quniform('max_depth', 3, 14, 1),\n",
    "        'learning_rate': hp.uniform('learning_rate', 0.01, 0.2),\n",
    "        'gamma': hp.uniform('gamma', 0, 0.5),\n",
    "        'colsample_bytree': hp.uniform('colsample_bytree', 0.3, 1),\n",
    "        'subsample': hp.uniform('subsample', 0.6, 1),\n",
    "        'min_child_weight': hp.quniform('min_child_weight', 1, 10, 1)\n",
    "    }\n",
    "\n",
    "    # Initialize a trials object\n",
    "    trials = Trials()\n",
    "\n",
    "    # Run the hyperparameter optimization\n",
    "    best = fmin(\n",
    "        fn=objective,\n",
    "        space=space,\n",
    "        algo=tpe.suggest,\n",
    "        max_evals=max_evals,\n",
    "        trials=trials\n",
    "    )\n",
    "\n",
    "    # Save the best hyperparameters to a pickle file\n",
    "    with open('../data/hyperparameters/XGBoost_hyperparameters.pkl', 'wb') as f:\n",
    "        pickle.dump(best, f)\n",
    "\n",
    "    print(\"Best hyperparameters saved to '../data/hyperparameters/XGBoost_hyperparameters.pkl'\")\n",
    "    \n",
    "def train_and_evaluate_xgboost(X_train, y_train, X_test, y_test, hyperparameters_path='../data/hyperparameters/XGBoost_hyperparameters.pkl'):\n",
    "    \"\"\"\n",
    "    Train and evaluate an XGBoost model using the best hyperparameters.\n",
    "\n",
    "    :param X_train: Training features.\n",
    "    :param y_train: Training labels.\n",
    "    :param X_test: Testing features.\n",
    "    :param y_test: Testing labels.\n",
    "    :param hyperparameters_path: Path to the pickle file containing the best hyperparameters.\n",
    "    \"\"\"\n",
    "    # Load the best hyperparameters\n",
    "    with open(hyperparameters_path, 'rb') as f:\n",
    "        best_params = pickle.load(f)\n",
    "\n",
    "    # Convert float values to int for certain parameters\n",
    "    best_params['n_estimators'] = int(best_params['n_estimators'])\n",
    "    best_params['max_depth'] = int(best_params['max_depth'])\n",
    "    best_params['min_child_weight'] = int(best_params['min_child_weight'])\n",
    "    best_params['scale_pos_weight'] = 0.798 / 0.202\n",
    "    best_params['random_state'] = 42\n",
    "\n",
    "    # Initialize the XGBoost model\n",
    "    xgb_model_final = XGBClassifier(**best_params)\n",
    "\n",
    "    # Fit the model on the filtered training set\n",
    "    xgb_model_final.fit(X_train, y_train)\n",
    "\n",
    "    # Make predictions on the test set\n",
    "    y_pred_final = xgb_model_final.predict(X_test)\n",
    "    y_pred_prob = xgb_model_final.predict_proba(X_test)[:, 1]\n",
    "\n",
    "    # Evaluate the model\n",
    "    roc_auc_final = roc_auc_score(y_test, y_pred_prob)\n",
    "    f1_score_final = f1_score(y_test, y_pred_final)\n",
    "\n",
    "    print(f\"Final Model Evaluation:\")\n",
    "    print(f\"ROC AUC: {roc_auc_final}\")\n",
    "    print(f\"F1 Score: {f1_score_final}\")\n",
    "    \n",
    "    # Save the trained model to a pickle file\n",
    "    with open('../model/xgb_model.pkl', 'wb') as model_file:\n",
    "        pickle.dump(xgb_model_final, model_file)\n",
    "\n",
    "    print(\"Model saved to '../model/xgb_model.pkl'\")\n",
    "\n",
    "def load_model_and_predict(X_simulated, model_path='../model/xgb_model.pkl', output_path='../data/output/predictions_with_features.csv'):\n",
    "    \"\"\"\n",
    "    Loads a trained model, makes predictions on the provided dataset, and saves the predictions along with features.\n",
    "\n",
    "    :param X_simulated: The dataset to make predictions on.\n",
    "    :param model_path: Path to the trained model file.\n",
    "    :param output_path: Path to save the predictions with features.\n",
    "    :return: None\n",
    "    \"\"\"\n",
    "    # Load the trained model\n",
    "    with open(model_path, 'rb') as model_file:\n",
    "        model = pickle.load(model_file)\n",
    "\n",
    "    # Make predictions\n",
    "    predictions = model.predict(X_simulated)\n",
    "\n",
    "    # Reset index to bring 'APPOINTMENTID' back as a column\n",
    "    X_simulated_reset = X_simulated.reset_index()\n",
    "\n",
    "    # Combine predictions with features\n",
    "    predictions_df = X_simulated_reset.copy()\n",
    "    predictions_df['PREDICTED_NO_SHOW'] = predictions\n",
    "\n",
    "    # Save the combined DataFrame to a CSV file\n",
    "    predictions_df.to_csv(output_path, index=False)\n",
    "\n",
    "    print(f\"Predictions with features saved to {output_path}\")\n",
    "    \n",
    "def evaluate_model(X_test_filtered, y_test, model_path=\"../model/xgb_model.pkl\"):\n",
    "    \"\"\"\n",
    "    Loads a trained model and performs detailed evaluation on the test set.\n",
    "\n",
    "    :param X_test_filtered: Filtered features of the test set.\n",
    "    :param y_test: Target variable of the test set.\n",
    "    :param model_path: Path to the trained model file.\n",
    "    :return: None\n",
    "    \"\"\"\n",
    "    # Load the trained model\n",
    "    with open(model_path, \"rb\") as f:\n",
    "        loaded_model = pickle.load(f)\n",
    "\n",
    "    # Make predictions on the test set\n",
    "    y_pred_test = loaded_model.predict(X_test_filtered)\n",
    "    y_pred_prob_test = loaded_model.predict_proba(X_test_filtered)[:, 1]\n",
    "\n",
    "    # Evaluate on Test Set\n",
    "    print(\"Evaluation on Test Set:\")\n",
    "    evaluate_predictions(y_test, y_pred_test, y_pred_prob_test)\n",
    "\n",
    "def evaluate_predictions(y_true, y_pred, y_pred_prob):\n",
    "    \"\"\"\n",
    "    Generates and displays evaluation metrics and plots for predictions.\n",
    "\n",
    "    :param y_true: True target values.\n",
    "    :param y_pred: Predicted target values.\n",
    "    :param y_pred_prob: Predicted probabilities.\n",
    "    :return: None\n",
    "    \"\"\"\n",
    "    # Compute and display confusion matrix\n",
    "    cm = confusion_matrix(y_true, y_pred)\n",
    "    ConfusionMatrixDisplay(cm, display_labels=['No-Show', 'Show']).plot()\n",
    "    plt.title('Confusion Matrix')\n",
    "    plt.show()\n",
    "\n",
    "    # Generate and print classification report\n",
    "    report = classification_report(y_true, y_pred, target_names=['No-Show', 'Show'])\n",
    "    print(\"Classification Report:\")\n",
    "    print(report)\n",
    "\n",
    "    # Compute and plot ROC curve\n",
    "    fpr, tpr, _ = roc_curve(y_true, y_pred_prob)\n",
    "    roc_auc = auc(fpr, tpr)\n",
    "    plt.figure()\n",
    "    plt.plot(fpr, tpr, color='darkorange', lw=1, label=f'ROC curve (area = {roc_auc:.2f})')\n",
    "    plt.plot([0, 1], [0, 1], color='navy', lw=1, linestyle='--')\n",
    "    plt.xlim([0.0, 1.0])\n",
    "    plt.ylim([0.0, 1.05])\n",
    "    plt.xlabel('False Positive Rate')\n",
    "    plt.ylabel('True Positive Rate')\n",
    "    plt.title('Receiver Operating Characteristic')\n",
    "    plt.legend(loc='lower right')\n",
    "    plt.show()\n",
    "\n",
    "    # Compute and plot Precision-Recall curve\n",
    "    precision, recall, _ = precision_recall_curve(y_true, y_pred_prob)\n",
    "    pr_auc = auc(recall, precision)\n",
    "    plt.figure()\n",
    "    plt.plot(recall, precision, color='darkorange', lw=1, label=f'PR curve (area = {pr_auc:.2f})')\n",
    "    plt.xlim([0.0, 1.0])\n",
    "    plt.ylim([0.0, 1.05])\n",
    "    plt.xlabel('Recall')\n",
    "    plt.ylabel('Precision')\n",
    "    plt.title('Precision-Recall Curve')\n",
    "    plt.legend(loc='lower right')\n",
    "    plt.show()"
   ]
  },
  {
   "cell_type": "markdown",
   "id": "e8201d8b-8f9e-44b2-bd6f-10e9b55000a2",
   "metadata": {},
   "source": [
    "### Model Training"
   ]
  },
  {
   "cell_type": "code",
   "execution_count": 8,
   "id": "eee4b50c-c2cf-472a-808d-1c5e286aef51",
   "metadata": {},
   "outputs": [
    {
     "name": "stdout",
     "output_type": "stream",
     "text": [
      "Overwriting ./src/train.py\n"
     ]
    }
   ],
   "source": [
    "%%writefile ./src/train.py\n",
    "\n",
    "from data_loader import *\n",
    "from preprocessing import *\n",
    "from feature_engineering import *\n",
    "from modeling import *\n",
    "\n",
    "def main():\n",
    "    # Load full data\n",
    "    full_data, _ = load_local_data()\n",
    "\n",
    "    # Preprocessing\n",
    "    preprocessed_full_data = preprocess_data(full_data, is_simulated=False)\n",
    "\n",
    "    # Train test split\n",
    "    train_set, test_set = split_data(preprocessed_full_data)\n",
    "\n",
    "    # Create 'GENDER_AGE' feature\n",
    "    train_set = create_age_gender_feature(train_set)\n",
    "    test_set = create_age_gender_feature(test_set)\n",
    "\n",
    "    # Create 'DAYS_TILL_APPOINTMENT' feature\n",
    "    train_set = calculate_days_till_appointment(train_set)\n",
    "    test_set = calculate_days_till_appointment(test_set)\n",
    "\n",
    "    # Extract the year, month, and day from the 'SCHEDULEDDAY' and 'APPOINTMENTDAY' \n",
    "    train_set = extract_datetime_features(train_set)\n",
    "    test_set = extract_datetime_features(test_set)\n",
    "\n",
    "    # Map the 'GENDER'\n",
    "    train_set = encode_gender(train_set)\n",
    "    test_set = encode_gender(test_set)\n",
    "\n",
    "    # One-hot encode 'GENDER_AGE'\n",
    "    train_set = one_hot_encode_gender_age(train_set)\n",
    "    train_set.to_csv('../data/processed/one_hot_encoded_train_set.csv', index=False)\n",
    "    test_set = one_hot_encode_gender_age(test_set)\n",
    "\n",
    "    # Target encode 'NEIGHBOURHOOD'\n",
    "    train_set, test_set = target_encode_neighbourhood(train_set, test_set)\n",
    "\n",
    "    # Filter and split train set to X and y\n",
    "    X_train_filtered, y_train = filter_data_with_important_features(train_set)\n",
    "    X_test_filtered, y_test = filter_data_with_important_features(test_set)\n",
    "\n",
    "    # Train and evaluate an XGBoost model\n",
    "    train_and_evaluate_xgboost(X_train_filtered, y_train, X_test_filtered, y_test)\n",
    "\n",
    "    # Loads a trained model and performs detailed evaluation\n",
    "    evaluate_model(X_test_filtered, y_test)\n",
    "\n",
    "if __name__ == \"__main__\":\n",
    "    main()"
   ]
  },
  {
   "cell_type": "markdown",
   "id": "b7df44e4-2e7d-4aa7-840c-086552ddb4aa",
   "metadata": {},
   "source": [
    "### Model Prediction"
   ]
  },
  {
   "cell_type": "code",
   "execution_count": 9,
   "id": "c51cf8ad-a500-447e-83b4-7477f7f6a57b",
   "metadata": {},
   "outputs": [
    {
     "name": "stdout",
     "output_type": "stream",
     "text": [
      "Overwriting ./src/predict.py\n"
     ]
    }
   ],
   "source": [
    "%%writefile ./src/predict.py\n",
    "\n",
    "from data_loader import *\n",
    "from preprocessing import *\n",
    "from feature_engineering import *\n",
    "from modeling import *\n",
    "\n",
    "def main():\n",
    "    # Load simulated data\n",
    "    _, simulated_data = load_local_data()\n",
    "\n",
    "    # Preprocessing\n",
    "    preprocessed_simulated_set = preprocess_data(simulated_data, is_simulated=True)\n",
    "\n",
    "    # Create 'GENDER_AGE' feature\n",
    "    preprocessed_simulated_set = create_age_gender_feature(preprocessed_simulated_set)\n",
    "\n",
    "    # Create 'DAYS_TILL_APPOINTMENT' feature \n",
    "    preprocessed_simulated_set = calculate_days_till_appointment(preprocessed_simulated_set)\n",
    "\n",
    "    # Extract the year, month, and day from the 'SCHEDULEDDAY' and 'APPOINTMENTDAY'\n",
    "    preprocessed_simulated_set = extract_datetime_features(preprocessed_simulated_set)\n",
    "\n",
    "    # Map the 'GENDER'\n",
    "    preprocessed_simulated_set = encode_gender(preprocessed_simulated_set)\n",
    "\n",
    "    # One-hot encode 'GENDER_AGE'\n",
    "    preprocessed_simulated_set = one_hot_encode_gender_age(preprocessed_simulated_set)\n",
    "\n",
    "    # Target encode 'NEIGHBOURHOOD'\n",
    "    one_hot_encoded_train_set = pd.read_csv('../data/processed/one_hot_encoded_train_set.csv')\n",
    "    _, preprocessed_simulated_set = target_encode_neighbourhood(one_hot_encoded_train_set, preprocessed_simulated_set)\n",
    "\n",
    "    # Filter simulate set\n",
    "    X_simulated_filtered, _ = filter_data_with_important_features(preprocessed_simulated_set)\n",
    "\n",
    "    # Loads a trained model and makes predictions\n",
    "    load_model_and_predict(X_simulated_filtered)\n",
    "\n",
    "if __name__ == \"__main__\":\n",
    "    main()"
   ]
  },
  {
   "cell_type": "markdown",
   "id": "83e6a1f6-e76c-4b7e-8029-5fd0e17c19c8",
   "metadata": {
    "tags": []
   },
   "source": [
    "## Change Directory"
   ]
  },
  {
   "cell_type": "code",
   "execution_count": 10,
   "id": "129bece4-9ab4-4d2c-bcb8-5bb749185278",
   "metadata": {
    "tags": []
   },
   "outputs": [
    {
     "name": "stdout",
     "output_type": "stream",
     "text": [
      "Current working directory: /home/ec2-user/SageMaker/src\n"
     ]
    }
   ],
   "source": [
    "# Change the current working directory to './src'\n",
    "os.chdir('./src')\n",
    "\n",
    "# Verify the change\n",
    "print(\"Current working directory: {0}\".format(os.getcwd()))"
   ]
  },
  {
   "cell_type": "markdown",
   "id": "ae2ec701-6ee6-4eab-92e7-60a21b4c2d2f",
   "metadata": {},
   "source": [
    "## Run train.py"
   ]
  },
  {
   "cell_type": "code",
   "execution_count": 11,
   "id": "4c83f4f0-83f6-499e-aeac-ee2cbb7a8f73",
   "metadata": {
    "tags": []
   },
   "outputs": [
    {
     "name": "stderr",
     "output_type": "stream",
     "text": [
      "/home/ec2-user/anaconda3/envs/python3/lib/python3.10/site-packages/pandas/core/computation/expressions.py:21: UserWarning: Pandas requires version '2.8.4' or newer of 'numexpr' (version '2.7.3' currently installed).\n",
      "  from pandas.core.computation.check import NUMEXPR_INSTALLED\n",
      "Matplotlib is building the font cache; this may take a moment.\n",
      "/home/ec2-user/SageMaker/src/modeling.py:71: FutureWarning: Setting an item of incompatible dtype is deprecated and will raise in a future error of pandas. Value '[0.16845329 0.15936255 0.22066327 ... 0.15306122 0.20429059 0.23984273]' has dtype incompatible with int64, please explicitly cast to a compatible dtype first.\n",
      "  X_filtered.update(data[important_features])\n",
      "/home/ec2-user/SageMaker/src/modeling.py:71: FutureWarning: Setting an item of incompatible dtype is deprecated and will raise in a future error of pandas. Value '[0.19438151 0.1849711  0.2011768  ... 0.19982847 0.1544586  0.23767798]' has dtype incompatible with int64, please explicitly cast to a compatible dtype first.\n",
      "  X_filtered.update(data[important_features])\n"
     ]
    },
    {
     "name": "stdout",
     "output_type": "stream",
     "text": [
      "Final Model Evaluation:\n",
      "ROC AUC: 0.7364460454464645\n",
      "F1 Score: 0.44980247922626354\n",
      "Model saved to '../model/xgb_model.pkl'\n",
      "Evaluation on Test Set:\n"
     ]
    },
    {
     "data": {
      "image/png": "[encoded data removed]",
      "text/plain": [
       "<Figure size 640x480 with 2 Axes>"
      ]
     },
     "metadata": {},
     "output_type": "display_data"
    },
    {
     "name": "stdout",
     "output_type": "stream",
     "text": [
      "Classification Report:\n",
      "              precision    recall  f1-score   support\n",
      "\n",
      "     No-Show       0.90      0.61      0.73     17642\n",
      "        Show       0.32      0.74      0.45      4463\n",
      "\n",
      "    accuracy                           0.63     22105\n",
      "   macro avg       0.61      0.67      0.59     22105\n",
      "weighted avg       0.79      0.63      0.67     22105\n",
      "\n"
     ]
    },
    {
     "data": {
      "image/png": "[encoded data removed]",
      "text/plain": [
       "<Figure size 640x480 with 1 Axes>"
      ]
     },
     "metadata": {},
     "output_type": "display_data"
    },
    {
     "data": {
      "image/png": "[encoded data removed]",
      "text/plain": [
       "<Figure size 640x480 with 1 Axes>"
      ]
     },
     "metadata": {},
     "output_type": "display_data"
    }
   ],
   "source": [
    "%run /home/ec2-user/SageMaker/src/train.py"
   ]
  },
  {
   "cell_type": "markdown",
   "id": "d492d899-d631-4d1b-b401-ee1347adb0f2",
   "metadata": {},
   "source": [
    "## Run predict.py"
   ]
  },
  {
   "cell_type": "code",
   "execution_count": 12,
   "id": "f8695399-ce98-40c5-8d4a-499e77e3f34e",
   "metadata": {
    "tags": []
   },
   "outputs": [
    {
     "name": "stderr",
     "output_type": "stream",
     "text": [
      "/home/ec2-user/SageMaker/src/modeling.py:71: FutureWarning: Setting an item of incompatible dtype is deprecated and will raise in a future error of pandas. Value '[0.22994129 0.15789474 0.18247881 ... 0.18247881 0.20512821 0.1590106 ]' has dtype incompatible with int64, please explicitly cast to a compatible dtype first.\n",
      "  X_filtered.update(data[important_features])\n"
     ]
    },
    {
     "name": "stdout",
     "output_type": "stream",
     "text": [
      "Predictions with features saved to ../data/output/predictions_with_features.csv\n"
     ]
    }
   ],
   "source": [
    "%run /home/ec2-user/SageMaker/src/predict.py"
   ]
  },
  {
   "cell_type": "markdown",
   "id": "043ee93f-d050-49e1-a761-f541013a9c1b",
   "metadata": {},
   "source": [
    "## Reset Directory"
   ]
  },
  {
   "cell_type": "code",
   "execution_count": 13,
   "id": "2dd29811-c611-4aa6-963a-73bd091ca7a2",
   "metadata": {
    "tags": []
   },
   "outputs": [
    {
     "name": "stdout",
     "output_type": "stream",
     "text": [
      "Current working directory reset to: /home/ec2-user/SageMaker\n"
     ]
    }
   ],
   "source": [
    "# Reset to the original directory\n",
    "os.chdir(original_directory)\n",
    "\n",
    "# Verify the reset\n",
    "print(\"Current working directory reset to: {0}\".format(os.getcwd()))"
   ]
  }
 ],
 "metadata": {
  "kernelspec": {
   "display_name": "conda_python3",
   "language": "python",
   "name": "conda_python3"
  },
  "language_info": {
   "codemirror_mode": {
    "name": "ipython",
    "version": 3
   },
   "file_extension": ".py",
   "mimetype": "text/x-python",
   "name": "python",
   "nbconvert_exporter": "python",
   "pygments_lexer": "ipython3",
   "version": "3.10.13"
  }
 },
 "nbformat": 4,
 "nbformat_minor": 5
}
